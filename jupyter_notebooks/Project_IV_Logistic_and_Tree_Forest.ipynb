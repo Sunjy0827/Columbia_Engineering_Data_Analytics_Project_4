{
 "cells": [
  {
   "cell_type": "markdown",
   "id": "1c12e141",
   "metadata": {},
   "source": [
    "# Import Dependencies"
   ]
  },
  {
   "cell_type": "code",
   "execution_count": 4,
   "id": "8f317d21",
   "metadata": {},
   "outputs": [],
   "source": [
    "### Data Processing Dependencies\n",
    "import pandas as pd\n",
    "from sklearn.preprocessing import StandardScaler\n",
    "\n",
    "### Machine Learning Algorithm Dependencies\n",
    "from sklearn.linear_model import LogisticRegression\n",
    "from sklearn import tree\n",
    "from sklearn.model_selection import train_test_split\n",
    "from sklearn.ensemble import RandomForestClassifier\n",
    "\n",
    "### Evaluating Machine Learning Dependencies\n",
    "from sklearn.metrics import accuracy_score\n",
    "from sklearn.metrics import confusion_matrix, ConfusionMatrixDisplay, accuracy_score, classification_report\n",
    "\n",
    "### Visualization Dependencies\n",
    "import pydotplus\n",
    "from IPython.display import Image\n",
    "import PIL\n",
    "from PIL import Image\n",
    "import matplotlib.image as mpimg\n",
    "import matplotlib.pyplot as plt"
   ]
  },
  {
   "cell_type": "markdown",
   "id": "7b415e54",
   "metadata": {},
   "source": [
    "# Preprocessing"
   ]
  },
  {
   "cell_type": "code",
   "execution_count": 5,
   "id": "e29ae5b9",
   "metadata": {},
   "outputs": [
    {
     "data": {
      "text/html": [
       "<div>\n",
       "<style scoped>\n",
       "    .dataframe tbody tr th:only-of-type {\n",
       "        vertical-align: middle;\n",
       "    }\n",
       "\n",
       "    .dataframe tbody tr th {\n",
       "        vertical-align: top;\n",
       "    }\n",
       "\n",
       "    .dataframe thead th {\n",
       "        text-align: right;\n",
       "    }\n",
       "</style>\n",
       "<table border=\"1\" class=\"dataframe\">\n",
       "  <thead>\n",
       "    <tr style=\"text-align: right;\">\n",
       "      <th></th>\n",
       "      <th>customer_id</th>\n",
       "      <th>customer_age</th>\n",
       "      <th>customer_income</th>\n",
       "      <th>home_ownership</th>\n",
       "      <th>employment_duration</th>\n",
       "      <th>loan_intent</th>\n",
       "      <th>loan_grade</th>\n",
       "      <th>loan_amnt</th>\n",
       "      <th>loan_int_rate</th>\n",
       "      <th>term_years</th>\n",
       "      <th>historical_default</th>\n",
       "      <th>cred_hist_length</th>\n",
       "      <th>Current_loan_status</th>\n",
       "      <th>income_category</th>\n",
       "      <th>loan_category</th>\n",
       "      <th>Interest_Rate_Category(%)</th>\n",
       "      <th>age_group</th>\n",
       "      <th>employment_duration_bucket</th>\n",
       "      <th>cred_hist_bucket</th>\n",
       "    </tr>\n",
       "  </thead>\n",
       "  <tbody>\n",
       "    <tr>\n",
       "      <th>0</th>\n",
       "      <td>2.0</td>\n",
       "      <td>21</td>\n",
       "      <td>9600</td>\n",
       "      <td>OWN</td>\n",
       "      <td>5.0</td>\n",
       "      <td>EDUCATION</td>\n",
       "      <td>A</td>\n",
       "      <td>1000</td>\n",
       "      <td>11.14</td>\n",
       "      <td>1</td>\n",
       "      <td>NEW</td>\n",
       "      <td>2</td>\n",
       "      <td>NO DEFAULT</td>\n",
       "      <td>$0 - $20,000</td>\n",
       "      <td>$0 - $5,000</td>\n",
       "      <td>9.01 - 13</td>\n",
       "      <td>18 - 24</td>\n",
       "      <td>6 - 10</td>\n",
       "      <td>0 - 5</td>\n",
       "    </tr>\n",
       "    <tr>\n",
       "      <th>1</th>\n",
       "      <td>3.0</td>\n",
       "      <td>25</td>\n",
       "      <td>9600</td>\n",
       "      <td>MORTGAGE</td>\n",
       "      <td>1.0</td>\n",
       "      <td>MEDICAL</td>\n",
       "      <td>B</td>\n",
       "      <td>5500</td>\n",
       "      <td>12.87</td>\n",
       "      <td>5</td>\n",
       "      <td>N</td>\n",
       "      <td>3</td>\n",
       "      <td>DEFAULT</td>\n",
       "      <td>$0 - $20,000</td>\n",
       "      <td>$5,001 - $10,000</td>\n",
       "      <td>9.01 - 13</td>\n",
       "      <td>25 - 34</td>\n",
       "      <td>0 - 5</td>\n",
       "      <td>0 - 5</td>\n",
       "    </tr>\n",
       "    <tr>\n",
       "      <th>2</th>\n",
       "      <td>6.0</td>\n",
       "      <td>21</td>\n",
       "      <td>9900</td>\n",
       "      <td>OWN</td>\n",
       "      <td>2.0</td>\n",
       "      <td>VENTURE</td>\n",
       "      <td>A</td>\n",
       "      <td>2500</td>\n",
       "      <td>7.14</td>\n",
       "      <td>1</td>\n",
       "      <td>N</td>\n",
       "      <td>2</td>\n",
       "      <td>DEFAULT</td>\n",
       "      <td>$0 - $20,000</td>\n",
       "      <td>$0 - $5,000</td>\n",
       "      <td>5 - 9</td>\n",
       "      <td>18 - 24</td>\n",
       "      <td>0 - 5</td>\n",
       "      <td>0 - 5</td>\n",
       "    </tr>\n",
       "    <tr>\n",
       "      <th>3</th>\n",
       "      <td>10.0</td>\n",
       "      <td>21</td>\n",
       "      <td>10000</td>\n",
       "      <td>OWN</td>\n",
       "      <td>6.0</td>\n",
       "      <td>VENTURE</td>\n",
       "      <td>C</td>\n",
       "      <td>1600</td>\n",
       "      <td>14.74</td>\n",
       "      <td>1</td>\n",
       "      <td>N</td>\n",
       "      <td>3</td>\n",
       "      <td>DEFAULT</td>\n",
       "      <td>$0 - $20,000</td>\n",
       "      <td>$0 - $5,000</td>\n",
       "      <td>13.01 - 17</td>\n",
       "      <td>18 - 24</td>\n",
       "      <td>6 - 10</td>\n",
       "      <td>0 - 5</td>\n",
       "    </tr>\n",
       "    <tr>\n",
       "      <th>4</th>\n",
       "      <td>12.0</td>\n",
       "      <td>21</td>\n",
       "      <td>10000</td>\n",
       "      <td>OWN</td>\n",
       "      <td>2.0</td>\n",
       "      <td>HOMEIMPROVEMENT</td>\n",
       "      <td>A</td>\n",
       "      <td>4500</td>\n",
       "      <td>8.63</td>\n",
       "      <td>1</td>\n",
       "      <td>N</td>\n",
       "      <td>2</td>\n",
       "      <td>DEFAULT</td>\n",
       "      <td>$0 - $20,000</td>\n",
       "      <td>$0 - $5,000</td>\n",
       "      <td>5 - 9</td>\n",
       "      <td>18 - 24</td>\n",
       "      <td>0 - 5</td>\n",
       "      <td>0 - 5</td>\n",
       "    </tr>\n",
       "  </tbody>\n",
       "</table>\n",
       "</div>"
      ],
      "text/plain": [
       "   customer_id  customer_age  customer_income home_ownership  \\\n",
       "0          2.0            21             9600            OWN   \n",
       "1          3.0            25             9600       MORTGAGE   \n",
       "2          6.0            21             9900            OWN   \n",
       "3         10.0            21            10000            OWN   \n",
       "4         12.0            21            10000            OWN   \n",
       "\n",
       "   employment_duration      loan_intent loan_grade  loan_amnt  loan_int_rate  \\\n",
       "0                  5.0        EDUCATION          A       1000          11.14   \n",
       "1                  1.0          MEDICAL          B       5500          12.87   \n",
       "2                  2.0          VENTURE          A       2500           7.14   \n",
       "3                  6.0          VENTURE          C       1600          14.74   \n",
       "4                  2.0  HOMEIMPROVEMENT          A       4500           8.63   \n",
       "\n",
       "   term_years historical_default  cred_hist_length Current_loan_status  \\\n",
       "0           1                NEW                 2          NO DEFAULT   \n",
       "1           5                  N                 3             DEFAULT   \n",
       "2           1                  N                 2             DEFAULT   \n",
       "3           1                  N                 3             DEFAULT   \n",
       "4           1                  N                 2             DEFAULT   \n",
       "\n",
       "  income_category     loan_category Interest_Rate_Category(%) age_group  \\\n",
       "0    $0 - $20,000       $0 - $5,000                 9.01 - 13   18 - 24   \n",
       "1    $0 - $20,000  $5,001 - $10,000                 9.01 - 13   25 - 34   \n",
       "2    $0 - $20,000       $0 - $5,000                     5 - 9   18 - 24   \n",
       "3    $0 - $20,000       $0 - $5,000                13.01 - 17   18 - 24   \n",
       "4    $0 - $20,000       $0 - $5,000                     5 - 9   18 - 24   \n",
       "\n",
       "  employment_duration_bucket cred_hist_bucket  \n",
       "0                     6 - 10            0 - 5  \n",
       "1                      0 - 5            0 - 5  \n",
       "2                      0 - 5            0 - 5  \n",
       "3                     6 - 10            0 - 5  \n",
       "4                      0 - 5            0 - 5  "
      ]
     },
     "execution_count": 5,
     "metadata": {},
     "output_type": "execute_result"
    }
   ],
   "source": [
    "### Read in the data\n",
    "df = pd.read_csv(\"../Resources/df_finalized.csv\")\n",
    "df.head()"
   ]
  },
  {
   "cell_type": "code",
   "execution_count": 6,
   "id": "4bd0a3b6",
   "metadata": {},
   "outputs": [
    {
     "data": {
      "text/plain": [
       "customer_id                   float64\n",
       "customer_age                    int64\n",
       "customer_income                 int64\n",
       "home_ownership                 object\n",
       "employment_duration           float64\n",
       "loan_intent                    object\n",
       "loan_grade                     object\n",
       "loan_amnt                       int64\n",
       "loan_int_rate                 float64\n",
       "term_years                      int64\n",
       "historical_default             object\n",
       "cred_hist_length                int64\n",
       "Current_loan_status            object\n",
       "income_category                object\n",
       "loan_category                  object\n",
       "Interest_Rate_Category(%)      object\n",
       "age_group                      object\n",
       "employment_duration_bucket     object\n",
       "cred_hist_bucket               object\n",
       "dtype: object"
      ]
     },
     "execution_count": 6,
     "metadata": {},
     "output_type": "execute_result"
    }
   ],
   "source": [
    "### Look at the data types\n",
    "df.dtypes"
   ]
  },
  {
   "cell_type": "code",
   "execution_count": 7,
   "id": "2c8f37c0",
   "metadata": {},
   "outputs": [],
   "source": [
    "### Create dummy variables from categorical variables\n",
    "df_w_dummies = pd.get_dummies(df[['income_category', 'loan_category', 'Interest_Rate_Category(%)', 'age_group', 'employment_duration_bucket', \n",
    "                  'cred_hist_bucket', 'home_ownership', 'loan_intent', 'loan_grade', 'historical_default']], dtype=int)\n"
   ]
  },
  {
   "cell_type": "code",
   "execution_count": 8,
   "id": "067117b3",
   "metadata": {},
   "outputs": [
    {
     "data": {
      "text/html": [
       "<div>\n",
       "<style scoped>\n",
       "    .dataframe tbody tr th:only-of-type {\n",
       "        vertical-align: middle;\n",
       "    }\n",
       "\n",
       "    .dataframe tbody tr th {\n",
       "        vertical-align: top;\n",
       "    }\n",
       "\n",
       "    .dataframe thead th {\n",
       "        text-align: right;\n",
       "    }\n",
       "</style>\n",
       "<table border=\"1\" class=\"dataframe\">\n",
       "  <thead>\n",
       "    <tr style=\"text-align: right;\">\n",
       "      <th></th>\n",
       "      <th>income_category_$0 - $20,000</th>\n",
       "      <th>income_category_$20,001 - $40,000</th>\n",
       "      <th>income_category_$40,001 - $60,000</th>\n",
       "      <th>income_category_$60,001 - $80,000</th>\n",
       "      <th>income_category_$80,001+</th>\n",
       "      <th>loan_category_$0 - $5,000</th>\n",
       "      <th>loan_category_$10,001 - $15,000</th>\n",
       "      <th>loan_category_$15,001 - $20,000</th>\n",
       "      <th>loan_category_$20,001+</th>\n",
       "      <th>loan_category_$5,001 - $10,000</th>\n",
       "      <th>...</th>\n",
       "      <th>loan_grade_A</th>\n",
       "      <th>loan_grade_B</th>\n",
       "      <th>loan_grade_C</th>\n",
       "      <th>loan_grade_D</th>\n",
       "      <th>loan_grade_E</th>\n",
       "      <th>historical_default_N</th>\n",
       "      <th>historical_default_NEW</th>\n",
       "      <th>historical_default_Y</th>\n",
       "      <th>term_years</th>\n",
       "      <th>Current_loan_status</th>\n",
       "    </tr>\n",
       "  </thead>\n",
       "  <tbody>\n",
       "    <tr>\n",
       "      <th>0</th>\n",
       "      <td>1</td>\n",
       "      <td>0</td>\n",
       "      <td>0</td>\n",
       "      <td>0</td>\n",
       "      <td>0</td>\n",
       "      <td>1</td>\n",
       "      <td>0</td>\n",
       "      <td>0</td>\n",
       "      <td>0</td>\n",
       "      <td>0</td>\n",
       "      <td>...</td>\n",
       "      <td>1</td>\n",
       "      <td>0</td>\n",
       "      <td>0</td>\n",
       "      <td>0</td>\n",
       "      <td>0</td>\n",
       "      <td>0</td>\n",
       "      <td>1</td>\n",
       "      <td>0</td>\n",
       "      <td>1</td>\n",
       "      <td>NO DEFAULT</td>\n",
       "    </tr>\n",
       "    <tr>\n",
       "      <th>1</th>\n",
       "      <td>1</td>\n",
       "      <td>0</td>\n",
       "      <td>0</td>\n",
       "      <td>0</td>\n",
       "      <td>0</td>\n",
       "      <td>0</td>\n",
       "      <td>0</td>\n",
       "      <td>0</td>\n",
       "      <td>0</td>\n",
       "      <td>1</td>\n",
       "      <td>...</td>\n",
       "      <td>0</td>\n",
       "      <td>1</td>\n",
       "      <td>0</td>\n",
       "      <td>0</td>\n",
       "      <td>0</td>\n",
       "      <td>1</td>\n",
       "      <td>0</td>\n",
       "      <td>0</td>\n",
       "      <td>5</td>\n",
       "      <td>DEFAULT</td>\n",
       "    </tr>\n",
       "    <tr>\n",
       "      <th>2</th>\n",
       "      <td>1</td>\n",
       "      <td>0</td>\n",
       "      <td>0</td>\n",
       "      <td>0</td>\n",
       "      <td>0</td>\n",
       "      <td>1</td>\n",
       "      <td>0</td>\n",
       "      <td>0</td>\n",
       "      <td>0</td>\n",
       "      <td>0</td>\n",
       "      <td>...</td>\n",
       "      <td>1</td>\n",
       "      <td>0</td>\n",
       "      <td>0</td>\n",
       "      <td>0</td>\n",
       "      <td>0</td>\n",
       "      <td>1</td>\n",
       "      <td>0</td>\n",
       "      <td>0</td>\n",
       "      <td>1</td>\n",
       "      <td>DEFAULT</td>\n",
       "    </tr>\n",
       "    <tr>\n",
       "      <th>3</th>\n",
       "      <td>1</td>\n",
       "      <td>0</td>\n",
       "      <td>0</td>\n",
       "      <td>0</td>\n",
       "      <td>0</td>\n",
       "      <td>1</td>\n",
       "      <td>0</td>\n",
       "      <td>0</td>\n",
       "      <td>0</td>\n",
       "      <td>0</td>\n",
       "      <td>...</td>\n",
       "      <td>0</td>\n",
       "      <td>0</td>\n",
       "      <td>1</td>\n",
       "      <td>0</td>\n",
       "      <td>0</td>\n",
       "      <td>1</td>\n",
       "      <td>0</td>\n",
       "      <td>0</td>\n",
       "      <td>1</td>\n",
       "      <td>DEFAULT</td>\n",
       "    </tr>\n",
       "    <tr>\n",
       "      <th>4</th>\n",
       "      <td>1</td>\n",
       "      <td>0</td>\n",
       "      <td>0</td>\n",
       "      <td>0</td>\n",
       "      <td>0</td>\n",
       "      <td>1</td>\n",
       "      <td>0</td>\n",
       "      <td>0</td>\n",
       "      <td>0</td>\n",
       "      <td>0</td>\n",
       "      <td>...</td>\n",
       "      <td>1</td>\n",
       "      <td>0</td>\n",
       "      <td>0</td>\n",
       "      <td>0</td>\n",
       "      <td>0</td>\n",
       "      <td>1</td>\n",
       "      <td>0</td>\n",
       "      <td>0</td>\n",
       "      <td>1</td>\n",
       "      <td>DEFAULT</td>\n",
       "    </tr>\n",
       "  </tbody>\n",
       "</table>\n",
       "<p>5 rows × 57 columns</p>\n",
       "</div>"
      ],
      "text/plain": [
       "   income_category_$0 - $20,000  income_category_$20,001 - $40,000  \\\n",
       "0                             1                                  0   \n",
       "1                             1                                  0   \n",
       "2                             1                                  0   \n",
       "3                             1                                  0   \n",
       "4                             1                                  0   \n",
       "\n",
       "   income_category_$40,001 - $60,000  income_category_$60,001 - $80,000  \\\n",
       "0                                  0                                  0   \n",
       "1                                  0                                  0   \n",
       "2                                  0                                  0   \n",
       "3                                  0                                  0   \n",
       "4                                  0                                  0   \n",
       "\n",
       "   income_category_$80,001+  loan_category_$0 - $5,000  \\\n",
       "0                         0                          1   \n",
       "1                         0                          0   \n",
       "2                         0                          1   \n",
       "3                         0                          1   \n",
       "4                         0                          1   \n",
       "\n",
       "   loan_category_$10,001 - $15,000  loan_category_$15,001 - $20,000  \\\n",
       "0                                0                                0   \n",
       "1                                0                                0   \n",
       "2                                0                                0   \n",
       "3                                0                                0   \n",
       "4                                0                                0   \n",
       "\n",
       "   loan_category_$20,001+  loan_category_$5,001 - $10,000  ...  loan_grade_A  \\\n",
       "0                       0                               0  ...             1   \n",
       "1                       0                               1  ...             0   \n",
       "2                       0                               0  ...             1   \n",
       "3                       0                               0  ...             0   \n",
       "4                       0                               0  ...             1   \n",
       "\n",
       "   loan_grade_B  loan_grade_C  loan_grade_D  loan_grade_E  \\\n",
       "0             0             0             0             0   \n",
       "1             1             0             0             0   \n",
       "2             0             0             0             0   \n",
       "3             0             1             0             0   \n",
       "4             0             0             0             0   \n",
       "\n",
       "   historical_default_N  historical_default_NEW  historical_default_Y  \\\n",
       "0                     0                       1                     0   \n",
       "1                     1                       0                     0   \n",
       "2                     1                       0                     0   \n",
       "3                     1                       0                     0   \n",
       "4                     1                       0                     0   \n",
       "\n",
       "   term_years  Current_loan_status  \n",
       "0           1           NO DEFAULT  \n",
       "1           5              DEFAULT  \n",
       "2           1              DEFAULT  \n",
       "3           1              DEFAULT  \n",
       "4           1              DEFAULT  \n",
       "\n",
       "[5 rows x 57 columns]"
      ]
     },
     "execution_count": 8,
     "metadata": {},
     "output_type": "execute_result"
    }
   ],
   "source": [
    "### Make new dataframe with dummy variables\n",
    "df_w_dummies[\"term_years\"] = df[\"term_years\"]\n",
    "df_w_dummies[\"Current_loan_status\"] = df[\"Current_loan_status\"]\n",
    "df_w_dummies.head()"
   ]
  },
  {
   "cell_type": "code",
   "execution_count": 9,
   "id": "41b886e4",
   "metadata": {},
   "outputs": [],
   "source": [
    "### Change 'Current_loan_status' column to boolean because with the values as strings, there was difficulty counting how many\n",
    "### were predicted as DEFAULT vs NO DEFAULT\n",
    "### Mapping code from google search AI\n",
    "mapping = {'DEFAULT': True, 'NO DEFAULT': False}\n",
    "df_w_dummies['Current_loan_status'] = df['Current_loan_status'].map(mapping) "
   ]
  },
  {
   "cell_type": "code",
   "execution_count": 10,
   "id": "04cc2d0e",
   "metadata": {},
   "outputs": [
    {
     "data": {
      "text/plain": [
       "0        False\n",
       "1         True\n",
       "2         True\n",
       "3         True\n",
       "4         True\n",
       "         ...  \n",
       "26085     True\n",
       "26086    False\n",
       "26087    False\n",
       "26088    False\n",
       "26089    False\n",
       "Name: Current_loan_status, Length: 26090, dtype: bool"
      ]
     },
     "execution_count": 10,
     "metadata": {},
     "output_type": "execute_result"
    }
   ],
   "source": [
    "### Check to see that converting 'Current_loan_status' to boolean worked\n",
    "df_w_dummies['Current_loan_status']"
   ]
  },
  {
   "cell_type": "code",
   "execution_count": 11,
   "id": "0a13d79c",
   "metadata": {},
   "outputs": [],
   "source": [
    "### Save predictors to variable 'X' and target variable to a variable 'y'\n",
    "X = df_w_dummies.drop([\"Current_loan_status\"], axis=1)\n",
    "y = df_w_dummies[\"Current_loan_status\"]"
   ]
  },
  {
   "cell_type": "code",
   "execution_count": 12,
   "id": "b6c45e2c",
   "metadata": {},
   "outputs": [],
   "source": [
    "### Split data into training and testing data\n",
    "X_train, X_test, y_train, y_test = train_test_split(X,y, random_state=1)"
   ]
  },
  {
   "cell_type": "code",
   "execution_count": 13,
   "id": "879b2208",
   "metadata": {},
   "outputs": [],
   "source": [
    "### Scale the data\n",
    "X_train_scaled = StandardScaler().fit_transform(X_train)\n",
    "X_test_scaled = StandardScaler().fit_transform(X_test)"
   ]
  },
  {
   "cell_type": "markdown",
   "id": "03b06397",
   "metadata": {},
   "source": [
    "## Logistic Regression"
   ]
  },
  {
   "cell_type": "code",
   "execution_count": 14,
   "id": "09161f1a",
   "metadata": {},
   "outputs": [
    {
     "name": "stderr",
     "output_type": "stream",
     "text": [
      "C:\\ProgramData\\anaconda3\\Lib\\site-packages\\sklearn\\linear_model\\_logistic.py:458: ConvergenceWarning: lbfgs failed to converge (status=1):\n",
      "STOP: TOTAL NO. of ITERATIONS REACHED LIMIT.\n",
      "\n",
      "Increase the number of iterations (max_iter) or scale the data as shown in:\n",
      "    https://scikit-learn.org/stable/modules/preprocessing.html\n",
      "Please also refer to the documentation for alternative solver options:\n",
      "    https://scikit-learn.org/stable/modules/linear_model.html#logistic-regression\n",
      "  n_iter_i = _check_optimize_result(\n"
     ]
    },
    {
     "data": {
      "text/html": [
       "<style>#sk-container-id-1 {color: black;background-color: white;}#sk-container-id-1 pre{padding: 0;}#sk-container-id-1 div.sk-toggleable {background-color: white;}#sk-container-id-1 label.sk-toggleable__label {cursor: pointer;display: block;width: 100%;margin-bottom: 0;padding: 0.3em;box-sizing: border-box;text-align: center;}#sk-container-id-1 label.sk-toggleable__label-arrow:before {content: \"▸\";float: left;margin-right: 0.25em;color: #696969;}#sk-container-id-1 label.sk-toggleable__label-arrow:hover:before {color: black;}#sk-container-id-1 div.sk-estimator:hover label.sk-toggleable__label-arrow:before {color: black;}#sk-container-id-1 div.sk-toggleable__content {max-height: 0;max-width: 0;overflow: hidden;text-align: left;background-color: #f0f8ff;}#sk-container-id-1 div.sk-toggleable__content pre {margin: 0.2em;color: black;border-radius: 0.25em;background-color: #f0f8ff;}#sk-container-id-1 input.sk-toggleable__control:checked~div.sk-toggleable__content {max-height: 200px;max-width: 100%;overflow: auto;}#sk-container-id-1 input.sk-toggleable__control:checked~label.sk-toggleable__label-arrow:before {content: \"▾\";}#sk-container-id-1 div.sk-estimator input.sk-toggleable__control:checked~label.sk-toggleable__label {background-color: #d4ebff;}#sk-container-id-1 div.sk-label input.sk-toggleable__control:checked~label.sk-toggleable__label {background-color: #d4ebff;}#sk-container-id-1 input.sk-hidden--visually {border: 0;clip: rect(1px 1px 1px 1px);clip: rect(1px, 1px, 1px, 1px);height: 1px;margin: -1px;overflow: hidden;padding: 0;position: absolute;width: 1px;}#sk-container-id-1 div.sk-estimator {font-family: monospace;background-color: #f0f8ff;border: 1px dotted black;border-radius: 0.25em;box-sizing: border-box;margin-bottom: 0.5em;}#sk-container-id-1 div.sk-estimator:hover {background-color: #d4ebff;}#sk-container-id-1 div.sk-parallel-item::after {content: \"\";width: 100%;border-bottom: 1px solid gray;flex-grow: 1;}#sk-container-id-1 div.sk-label:hover label.sk-toggleable__label {background-color: #d4ebff;}#sk-container-id-1 div.sk-serial::before {content: \"\";position: absolute;border-left: 1px solid gray;box-sizing: border-box;top: 0;bottom: 0;left: 50%;z-index: 0;}#sk-container-id-1 div.sk-serial {display: flex;flex-direction: column;align-items: center;background-color: white;padding-right: 0.2em;padding-left: 0.2em;position: relative;}#sk-container-id-1 div.sk-item {position: relative;z-index: 1;}#sk-container-id-1 div.sk-parallel {display: flex;align-items: stretch;justify-content: center;background-color: white;position: relative;}#sk-container-id-1 div.sk-item::before, #sk-container-id-1 div.sk-parallel-item::before {content: \"\";position: absolute;border-left: 1px solid gray;box-sizing: border-box;top: 0;bottom: 0;left: 50%;z-index: -1;}#sk-container-id-1 div.sk-parallel-item {display: flex;flex-direction: column;z-index: 1;position: relative;background-color: white;}#sk-container-id-1 div.sk-parallel-item:first-child::after {align-self: flex-end;width: 50%;}#sk-container-id-1 div.sk-parallel-item:last-child::after {align-self: flex-start;width: 50%;}#sk-container-id-1 div.sk-parallel-item:only-child::after {width: 0;}#sk-container-id-1 div.sk-dashed-wrapped {border: 1px dashed gray;margin: 0 0.4em 0.5em 0.4em;box-sizing: border-box;padding-bottom: 0.4em;background-color: white;}#sk-container-id-1 div.sk-label label {font-family: monospace;font-weight: bold;display: inline-block;line-height: 1.2em;}#sk-container-id-1 div.sk-label-container {text-align: center;}#sk-container-id-1 div.sk-container {/* jupyter's `normalize.less` sets `[hidden] { display: none; }` but bootstrap.min.css set `[hidden] { display: none !important; }` so we also need the `!important` here to be able to override the default hidden behavior on the sphinx rendered scikit-learn.org. See: https://github.com/scikit-learn/scikit-learn/issues/21755 */display: inline-block !important;position: relative;}#sk-container-id-1 div.sk-text-repr-fallback {display: none;}</style><div id=\"sk-container-id-1\" class=\"sk-top-container\"><div class=\"sk-text-repr-fallback\"><pre>LogisticRegression()</pre><b>In a Jupyter environment, please rerun this cell to show the HTML representation or trust the notebook. <br />On GitHub, the HTML representation is unable to render, please try loading this page with nbviewer.org.</b></div><div class=\"sk-container\" hidden><div class=\"sk-item\"><div class=\"sk-estimator sk-toggleable\"><input class=\"sk-toggleable__control sk-hidden--visually\" id=\"sk-estimator-id-1\" type=\"checkbox\" checked><label for=\"sk-estimator-id-1\" class=\"sk-toggleable__label sk-toggleable__label-arrow\">LogisticRegression</label><div class=\"sk-toggleable__content\"><pre>LogisticRegression()</pre></div></div></div></div></div>"
      ],
      "text/plain": [
       "LogisticRegression()"
      ]
     },
     "execution_count": 14,
     "metadata": {},
     "output_type": "execute_result"
    }
   ],
   "source": [
    "### Instantiate and fit the logistic regression model\n",
    "log_model = LogisticRegression()\n",
    "log_model.fit(X_train, y_train)"
   ]
  },
  {
   "cell_type": "code",
   "execution_count": 15,
   "id": "05bf1e04",
   "metadata": {},
   "outputs": [],
   "source": [
    "### Predictions from the model for testing data\n",
    "log_predictions = log_model.predict(X_test)"
   ]
  },
  {
   "cell_type": "code",
   "execution_count": 17,
   "id": "691c9b41",
   "metadata": {},
   "outputs": [],
   "source": [
    "### Create a dataframe consisting of the predicted probabilities of each loan from the test dataset of not being defaulted or being defaulted, \n",
    "### whether the logistic regression model predicts each loan as being defaulted or not defaulted, and whether the loan was actually defaulted or not\n",
    "\n",
    "### Get the probabilities associated with each datapoint in the testing set belonging to either No Default (left) or Default (right)\n",
    "test_probs = log_model.predict_proba(X_test)\n",
    "\n",
    "### Dataframe to show predicted probabilities of datapoint belonging to 'No Default' group and 'Default' group and actual group the datapoint belongs to\n",
    "probs_and_actual_df = pd.DataFrame(test_probs, columns=['Predicted Probability No Default', 'Predicted Probability Default'])\n",
    "\n",
    "### Make column for whether the loan is predicted not defaulted/defaulted\n",
    "predicted_default = []\n",
    "for log_prediction in log_predictions:\n",
    "    if log_prediction == True:\n",
    "        predicted_default.append(\"Default\")\n",
    "    else:\n",
    "        predicted_default.append(\"No Default\")\n",
    "probs_and_actual_df[\"Predicted No Default/Default\"] = predicted_default\n",
    "\n",
    "\n",
    "### Make column for whether the loan is not defaulted/defaulted\n",
    "actual = []\n",
    "for y_t in y_test:\n",
    "    if y_t == True:\n",
    "        actual.append('Default')\n",
    "    else:\n",
    "        actual.append('No Default')\n",
    "probs_and_actual_df[\"Actual No Default/Default\"] = actual"
   ]
  },
  {
   "cell_type": "code",
   "execution_count": 18,
   "id": "a5150f5a",
   "metadata": {},
   "outputs": [
    {
     "data": {
      "text/html": [
       "<div>\n",
       "<style scoped>\n",
       "    .dataframe tbody tr th:only-of-type {\n",
       "        vertical-align: middle;\n",
       "    }\n",
       "\n",
       "    .dataframe tbody tr th {\n",
       "        vertical-align: top;\n",
       "    }\n",
       "\n",
       "    .dataframe thead th {\n",
       "        text-align: right;\n",
       "    }\n",
       "</style>\n",
       "<table border=\"1\" class=\"dataframe\">\n",
       "  <thead>\n",
       "    <tr style=\"text-align: right;\">\n",
       "      <th></th>\n",
       "      <th>Predicted Probability No Default</th>\n",
       "      <th>Predicted Probability Default</th>\n",
       "      <th>Predicted No Default/Default</th>\n",
       "      <th>Actual No Default/Default</th>\n",
       "    </tr>\n",
       "  </thead>\n",
       "  <tbody>\n",
       "    <tr>\n",
       "      <th>0</th>\n",
       "      <td>0.007337</td>\n",
       "      <td>0.992663</td>\n",
       "      <td>Default</td>\n",
       "      <td>Default</td>\n",
       "    </tr>\n",
       "    <tr>\n",
       "      <th>1</th>\n",
       "      <td>0.964874</td>\n",
       "      <td>0.035126</td>\n",
       "      <td>No Default</td>\n",
       "      <td>Default</td>\n",
       "    </tr>\n",
       "    <tr>\n",
       "      <th>2</th>\n",
       "      <td>0.999924</td>\n",
       "      <td>0.000076</td>\n",
       "      <td>No Default</td>\n",
       "      <td>No Default</td>\n",
       "    </tr>\n",
       "    <tr>\n",
       "      <th>3</th>\n",
       "      <td>0.999933</td>\n",
       "      <td>0.000067</td>\n",
       "      <td>No Default</td>\n",
       "      <td>No Default</td>\n",
       "    </tr>\n",
       "    <tr>\n",
       "      <th>4</th>\n",
       "      <td>0.999998</td>\n",
       "      <td>0.000002</td>\n",
       "      <td>No Default</td>\n",
       "      <td>No Default</td>\n",
       "    </tr>\n",
       "  </tbody>\n",
       "</table>\n",
       "</div>"
      ],
      "text/plain": [
       "   Predicted Probability No Default  Predicted Probability Default  \\\n",
       "0                          0.007337                       0.992663   \n",
       "1                          0.964874                       0.035126   \n",
       "2                          0.999924                       0.000076   \n",
       "3                          0.999933                       0.000067   \n",
       "4                          0.999998                       0.000002   \n",
       "\n",
       "  Predicted No Default/Default Actual No Default/Default  \n",
       "0                      Default                   Default  \n",
       "1                   No Default                   Default  \n",
       "2                   No Default                No Default  \n",
       "3                   No Default                No Default  \n",
       "4                   No Default                No Default  "
      ]
     },
     "execution_count": 18,
     "metadata": {},
     "output_type": "execute_result"
    }
   ],
   "source": [
    "### Look at created dataframe\n",
    "probs_and_actual_df.head()"
   ]
  },
  {
   "cell_type": "code",
   "execution_count": 19,
   "id": "d008580e",
   "metadata": {},
   "outputs": [
    {
     "data": {
      "text/plain": [
       "array([[5023,  162],\n",
       "       [ 177, 1161]], dtype=int64)"
      ]
     },
     "execution_count": 19,
     "metadata": {},
     "output_type": "execute_result"
    }
   ],
   "source": [
    "### Confusion matrix with only numbers\n",
    "confusion_matrix(y_test, log_predictions, labels=[False, True])"
   ]
  },
  {
   "cell_type": "code",
   "execution_count": 25,
   "id": "202d2c78",
   "metadata": {
    "scrolled": true
   },
   "outputs": [
    {
     "data": {
      "image/png": "[encoded data removed]",
      "text/plain": [
       "<Figure size 640x480 with 2 Axes>"
      ]
     },
     "metadata": {},
     "output_type": "display_data"
    }
   ],
   "source": [
    "### Pretty confusion matrix\n",
    "### Code for how to make confusion matrix pretty from \n",
    "### https://scikit-learn.org/stable/modules/generated/sklearn.metrics.ConfusionMatrixDisplay.html#sklearn.metrics.ConfusionMatrixDisplay.from_estimator\n",
    "log_predictions = log_model.predict(X_test)\n",
    "cm = confusion_matrix(y_test, log_predictions, labels=[False, True])\n",
    "disp = ConfusionMatrixDisplay(confusion_matrix=cm,\n",
    "                              display_labels=['No Default', 'Default'])\n",
    "disp.plot(cmap='plasma')\n",
    "plt.show()"
   ]
  },
  {
   "cell_type": "code",
   "execution_count": 26,
   "id": "70ed5730",
   "metadata": {},
   "outputs": [
    {
     "data": {
      "text/plain": [
       "0.9480300475241453"
      ]
     },
     "execution_count": 26,
     "metadata": {},
     "output_type": "execute_result"
    }
   ],
   "source": [
    "### Accuracy score\n",
    "accuracy_score(y_test, log_predictions)"
   ]
  },
  {
   "cell_type": "code",
   "execution_count": 27,
   "id": "c35d007a",
   "metadata": {},
   "outputs": [
    {
     "name": "stdout",
     "output_type": "stream",
     "text": [
      "              precision    recall  f1-score   support\n",
      "\n",
      "  No Default       0.97      0.97      0.97      5185\n",
      "     Default       0.88      0.87      0.87      1338\n",
      "\n",
      "    accuracy                           0.95      6523\n",
      "   macro avg       0.92      0.92      0.92      6523\n",
      "weighted avg       0.95      0.95      0.95      6523\n",
      "\n"
     ]
    }
   ],
   "source": [
    "### Classification Table\n",
    "target_names = [\"No Default\", \"Default\"]\n",
    "print(classification_report(y_test, log_predictions, target_names = target_names))"
   ]
  },
  {
   "cell_type": "markdown",
   "id": "dffc9508",
   "metadata": {},
   "source": [
    "# Tree"
   ]
  },
  {
   "cell_type": "code",
   "execution_count": 49,
   "id": "dd0df9c5",
   "metadata": {},
   "outputs": [
    {
     "data": {
      "text/html": [
       "<style>#sk-container-id-5 {color: black;background-color: white;}#sk-container-id-5 pre{padding: 0;}#sk-container-id-5 div.sk-toggleable {background-color: white;}#sk-container-id-5 label.sk-toggleable__label {cursor: pointer;display: block;width: 100%;margin-bottom: 0;padding: 0.3em;box-sizing: border-box;text-align: center;}#sk-container-id-5 label.sk-toggleable__label-arrow:before {content: \"▸\";float: left;margin-right: 0.25em;color: #696969;}#sk-container-id-5 label.sk-toggleable__label-arrow:hover:before {color: black;}#sk-container-id-5 div.sk-estimator:hover label.sk-toggleable__label-arrow:before {color: black;}#sk-container-id-5 div.sk-toggleable__content {max-height: 0;max-width: 0;overflow: hidden;text-align: left;background-color: #f0f8ff;}#sk-container-id-5 div.sk-toggleable__content pre {margin: 0.2em;color: black;border-radius: 0.25em;background-color: #f0f8ff;}#sk-container-id-5 input.sk-toggleable__control:checked~div.sk-toggleable__content {max-height: 200px;max-width: 100%;overflow: auto;}#sk-container-id-5 input.sk-toggleable__control:checked~label.sk-toggleable__label-arrow:before {content: \"▾\";}#sk-container-id-5 div.sk-estimator input.sk-toggleable__control:checked~label.sk-toggleable__label {background-color: #d4ebff;}#sk-container-id-5 div.sk-label input.sk-toggleable__control:checked~label.sk-toggleable__label {background-color: #d4ebff;}#sk-container-id-5 input.sk-hidden--visually {border: 0;clip: rect(1px 1px 1px 1px);clip: rect(1px, 1px, 1px, 1px);height: 1px;margin: -1px;overflow: hidden;padding: 0;position: absolute;width: 1px;}#sk-container-id-5 div.sk-estimator {font-family: monospace;background-color: #f0f8ff;border: 1px dotted black;border-radius: 0.25em;box-sizing: border-box;margin-bottom: 0.5em;}#sk-container-id-5 div.sk-estimator:hover {background-color: #d4ebff;}#sk-container-id-5 div.sk-parallel-item::after {content: \"\";width: 100%;border-bottom: 1px solid gray;flex-grow: 1;}#sk-container-id-5 div.sk-label:hover label.sk-toggleable__label {background-color: #d4ebff;}#sk-container-id-5 div.sk-serial::before {content: \"\";position: absolute;border-left: 1px solid gray;box-sizing: border-box;top: 0;bottom: 0;left: 50%;z-index: 0;}#sk-container-id-5 div.sk-serial {display: flex;flex-direction: column;align-items: center;background-color: white;padding-right: 0.2em;padding-left: 0.2em;position: relative;}#sk-container-id-5 div.sk-item {position: relative;z-index: 1;}#sk-container-id-5 div.sk-parallel {display: flex;align-items: stretch;justify-content: center;background-color: white;position: relative;}#sk-container-id-5 div.sk-item::before, #sk-container-id-5 div.sk-parallel-item::before {content: \"\";position: absolute;border-left: 1px solid gray;box-sizing: border-box;top: 0;bottom: 0;left: 50%;z-index: -1;}#sk-container-id-5 div.sk-parallel-item {display: flex;flex-direction: column;z-index: 1;position: relative;background-color: white;}#sk-container-id-5 div.sk-parallel-item:first-child::after {align-self: flex-end;width: 50%;}#sk-container-id-5 div.sk-parallel-item:last-child::after {align-self: flex-start;width: 50%;}#sk-container-id-5 div.sk-parallel-item:only-child::after {width: 0;}#sk-container-id-5 div.sk-dashed-wrapped {border: 1px dashed gray;margin: 0 0.4em 0.5em 0.4em;box-sizing: border-box;padding-bottom: 0.4em;background-color: white;}#sk-container-id-5 div.sk-label label {font-family: monospace;font-weight: bold;display: inline-block;line-height: 1.2em;}#sk-container-id-5 div.sk-label-container {text-align: center;}#sk-container-id-5 div.sk-container {/* jupyter's `normalize.less` sets `[hidden] { display: none; }` but bootstrap.min.css set `[hidden] { display: none !important; }` so we also need the `!important` here to be able to override the default hidden behavior on the sphinx rendered scikit-learn.org. See: https://github.com/scikit-learn/scikit-learn/issues/21755 */display: inline-block !important;position: relative;}#sk-container-id-5 div.sk-text-repr-fallback {display: none;}</style><div id=\"sk-container-id-5\" class=\"sk-top-container\"><div class=\"sk-text-repr-fallback\"><pre>DecisionTreeClassifier(max_depth=5, random_state=1)</pre><b>In a Jupyter environment, please rerun this cell to show the HTML representation or trust the notebook. <br />On GitHub, the HTML representation is unable to render, please try loading this page with nbviewer.org.</b></div><div class=\"sk-container\" hidden><div class=\"sk-item\"><div class=\"sk-estimator sk-toggleable\"><input class=\"sk-toggleable__control sk-hidden--visually\" id=\"sk-estimator-id-5\" type=\"checkbox\" checked><label for=\"sk-estimator-id-5\" class=\"sk-toggleable__label sk-toggleable__label-arrow\">DecisionTreeClassifier</label><div class=\"sk-toggleable__content\"><pre>DecisionTreeClassifier(max_depth=5, random_state=1)</pre></div></div></div></div></div>"
      ],
      "text/plain": [
       "DecisionTreeClassifier(max_depth=5, random_state=1)"
      ]
     },
     "execution_count": 49,
     "metadata": {},
     "output_type": "execute_result"
    }
   ],
   "source": [
    "### Instantiate and fit a tree with max_depth=5\n",
    "### Set a max depth because letting a tree be as deep as possible leads to overfitting and lack of probabilities of \n",
    "### each datapoint falling into one group (No Default) vs another (Default) according to \n",
    "### https://stats.stackexchange.com/questions/193424/is-decision-tree-output-a-prediction-or-class-probabilitie\n",
    "tree_model = tree.DecisionTreeClassifier(random_state=1, max_depth=5)\n",
    "tree_model.fit(X_train_scaled, y_train)"
   ]
  },
  {
   "cell_type": "code",
   "execution_count": 50,
   "id": "d0ad9a45",
   "metadata": {},
   "outputs": [
    {
     "data": {
      "text/plain": [
       "True"
      ]
     },
     "execution_count": 50,
     "metadata": {},
     "output_type": "execute_result"
    }
   ],
   "source": [
    "### Draw the tree (saved to a pdf because tree is too large to display clearly in Jupyter notebook)\n",
    "\n",
    "### Convert tree into dot format\n",
    "dot_data = tree.export_graphviz(tree_model, out_file=None, feature_names=X_train.columns, class_names=[\"No Default\", \"Default\"], filled=True)\n",
    "\n",
    "### Create graph from dot format\n",
    "tree_graph = pydotplus.graph_from_dot_data(dot_data)\n",
    "\n",
    "### Save the graph as a pdf\n",
    "tree_graph.write_pdf(\"../Images/tree.pdf\")"
   ]
  },
  {
   "cell_type": "code",
   "execution_count": 51,
   "id": "63eaa489",
   "metadata": {},
   "outputs": [],
   "source": [
    "### Predictions from tree\n",
    "tree_predictions = tree_model.predict(X_test_scaled)"
   ]
  },
  {
   "cell_type": "code",
   "execution_count": 53,
   "id": "546100df",
   "metadata": {},
   "outputs": [],
   "source": [
    "### Create a dataframe consisting of the predicted probabilities of each loan from the test dataset of not being defaulted or being defaulted, \n",
    "### whether the logistic regression model predicts each loan as being defaulted or not defaulted, and whether the loan was actually defaulted or not\n",
    "\n",
    "### Get the probabilities associated with each datapoint in the testing set belonging to either No Default (left) or Default (right)\n",
    "test_probs = tree_model.predict_proba(X_test_scaled)\n",
    "\n",
    "### Dataframe\n",
    "probs_and_actual_df = pd.DataFrame(test_probs, columns=['Predicted Probability No Default', 'Predicted Probability Default'])\n",
    "     \n",
    "\n",
    "### Make dataframe and column for whether the loan is predicted not defaulted/defaulted\n",
    "predicted_default = []\n",
    "for tree_prediction in tree_predictions:\n",
    "    if tree_prediction == True:\n",
    "        predicted_default.append(\"Default\")\n",
    "    else:\n",
    "        predicted_default.append(\"No Default\")\n",
    "probs_and_actual_df[\"Predicted No Default/Default\"] = predicted_default\n",
    "\n",
    "\n",
    "### Make column for whether the loan is not defaulted/defaulted\n",
    "actual = []\n",
    "for y_t in y_test:\n",
    "    if y_t == True:\n",
    "        actual.append('Default')\n",
    "    else:\n",
    "        actual.append('No Default')\n",
    "probs_and_actual_df[\"Actual No Default/Default\"] = actual"
   ]
  },
  {
   "cell_type": "code",
   "execution_count": 54,
   "id": "ccf895ed",
   "metadata": {},
   "outputs": [
    {
     "data": {
      "text/html": [
       "<div>\n",
       "<style scoped>\n",
       "    .dataframe tbody tr th:only-of-type {\n",
       "        vertical-align: middle;\n",
       "    }\n",
       "\n",
       "    .dataframe tbody tr th {\n",
       "        vertical-align: top;\n",
       "    }\n",
       "\n",
       "    .dataframe thead th {\n",
       "        text-align: right;\n",
       "    }\n",
       "</style>\n",
       "<table border=\"1\" class=\"dataframe\">\n",
       "  <thead>\n",
       "    <tr style=\"text-align: right;\">\n",
       "      <th></th>\n",
       "      <th>Predicted Probability No Default</th>\n",
       "      <th>Predicted Probability Default</th>\n",
       "      <th>Predicted No Default/Default</th>\n",
       "      <th>Actual No Default/Default</th>\n",
       "    </tr>\n",
       "  </thead>\n",
       "  <tbody>\n",
       "    <tr>\n",
       "      <th>0</th>\n",
       "      <td>0.004499</td>\n",
       "      <td>0.995501</td>\n",
       "      <td>Default</td>\n",
       "      <td>Default</td>\n",
       "    </tr>\n",
       "    <tr>\n",
       "      <th>1</th>\n",
       "      <td>0.784519</td>\n",
       "      <td>0.215481</td>\n",
       "      <td>No Default</td>\n",
       "      <td>Default</td>\n",
       "    </tr>\n",
       "    <tr>\n",
       "      <th>2</th>\n",
       "      <td>1.000000</td>\n",
       "      <td>0.000000</td>\n",
       "      <td>No Default</td>\n",
       "      <td>No Default</td>\n",
       "    </tr>\n",
       "    <tr>\n",
       "      <th>3</th>\n",
       "      <td>1.000000</td>\n",
       "      <td>0.000000</td>\n",
       "      <td>No Default</td>\n",
       "      <td>No Default</td>\n",
       "    </tr>\n",
       "    <tr>\n",
       "      <th>4</th>\n",
       "      <td>1.000000</td>\n",
       "      <td>0.000000</td>\n",
       "      <td>No Default</td>\n",
       "      <td>No Default</td>\n",
       "    </tr>\n",
       "  </tbody>\n",
       "</table>\n",
       "</div>"
      ],
      "text/plain": [
       "   Predicted Probability No Default  Predicted Probability Default  \\\n",
       "0                          0.004499                       0.995501   \n",
       "1                          0.784519                       0.215481   \n",
       "2                          1.000000                       0.000000   \n",
       "3                          1.000000                       0.000000   \n",
       "4                          1.000000                       0.000000   \n",
       "\n",
       "  Predicted No Default/Default Actual No Default/Default  \n",
       "0                      Default                   Default  \n",
       "1                   No Default                   Default  \n",
       "2                   No Default                No Default  \n",
       "3                   No Default                No Default  \n",
       "4                   No Default                No Default  "
      ]
     },
     "execution_count": 54,
     "metadata": {},
     "output_type": "execute_result"
    }
   ],
   "source": [
    "### Look at created dataframe\n",
    "probs_and_actual_df.head()"
   ]
  },
  {
   "cell_type": "code",
   "execution_count": 55,
   "id": "9625e0a4",
   "metadata": {},
   "outputs": [
    {
     "data": {
      "text/plain": [
       "array([[5117,   68],\n",
       "       [ 349,  989]], dtype=int64)"
      ]
     },
     "execution_count": 55,
     "metadata": {},
     "output_type": "execute_result"
    }
   ],
   "source": [
    "### Confusion matrix with only numbers\n",
    "confusion_matrix(y_test, tree_predictions, labels=[False, True])"
   ]
  },
  {
   "cell_type": "code",
   "execution_count": 56,
   "id": "f60a9143",
   "metadata": {},
   "outputs": [
    {
     "data": {
      "image/png": "[encoded data removed]",
      "text/plain": [
       "<Figure size 640x480 with 2 Axes>"
      ]
     },
     "metadata": {},
     "output_type": "display_data"
    }
   ],
   "source": [
    "### Pretty confusion matrix\n",
    "### Code for how to make confusion matrix pretty from \n",
    "### https://scikit-learn.org/stable/modules/generated/sklearn.metrics.ConfusionMatrixDisplay.html#sklearn.metrics.ConfusionMatrixDisplay.from_estimator\n",
    "cm = confusion_matrix(y_test, tree_predictions, labels=[False, True])\n",
    "disp = ConfusionMatrixDisplay(confusion_matrix=cm,\n",
    "                              display_labels=['No Default', 'Default'])\n",
    "disp.plot()\n",
    "plt.show()"
   ]
  },
  {
   "cell_type": "code",
   "execution_count": 57,
   "id": "f82f07f8",
   "metadata": {},
   "outputs": [
    {
     "data": {
      "text/plain": [
       "0.9360723593438602"
      ]
     },
     "execution_count": 57,
     "metadata": {},
     "output_type": "execute_result"
    }
   ],
   "source": [
    "### Accuracy\n",
    "accuracy_score(y_test, tree_predictions)"
   ]
  },
  {
   "cell_type": "code",
   "execution_count": 58,
   "id": "75227211",
   "metadata": {},
   "outputs": [
    {
     "name": "stdout",
     "output_type": "stream",
     "text": [
      "              precision    recall  f1-score   support\n",
      "\n",
      "  No Default       0.94      0.99      0.96      5185\n",
      "     Default       0.94      0.74      0.83      1338\n",
      "\n",
      "    accuracy                           0.94      6523\n",
      "   macro avg       0.94      0.86      0.89      6523\n",
      "weighted avg       0.94      0.94      0.93      6523\n",
      "\n"
     ]
    }
   ],
   "source": [
    "### Classification Table\n",
    "target_names = [\"No Default\", \"Default\"]\n",
    "print(classification_report(y_test, tree_predictions, target_names = target_names))"
   ]
  },
  {
   "cell_type": "code",
   "execution_count": 61,
   "id": "e38af8a8",
   "metadata": {},
   "outputs": [
    {
     "data": {
      "text/html": [
       "<style>#sk-container-id-7 {color: black;background-color: white;}#sk-container-id-7 pre{padding: 0;}#sk-container-id-7 div.sk-toggleable {background-color: white;}#sk-container-id-7 label.sk-toggleable__label {cursor: pointer;display: block;width: 100%;margin-bottom: 0;padding: 0.3em;box-sizing: border-box;text-align: center;}#sk-container-id-7 label.sk-toggleable__label-arrow:before {content: \"▸\";float: left;margin-right: 0.25em;color: #696969;}#sk-container-id-7 label.sk-toggleable__label-arrow:hover:before {color: black;}#sk-container-id-7 div.sk-estimator:hover label.sk-toggleable__label-arrow:before {color: black;}#sk-container-id-7 div.sk-toggleable__content {max-height: 0;max-width: 0;overflow: hidden;text-align: left;background-color: #f0f8ff;}#sk-container-id-7 div.sk-toggleable__content pre {margin: 0.2em;color: black;border-radius: 0.25em;background-color: #f0f8ff;}#sk-container-id-7 input.sk-toggleable__control:checked~div.sk-toggleable__content {max-height: 200px;max-width: 100%;overflow: auto;}#sk-container-id-7 input.sk-toggleable__control:checked~label.sk-toggleable__label-arrow:before {content: \"▾\";}#sk-container-id-7 div.sk-estimator input.sk-toggleable__control:checked~label.sk-toggleable__label {background-color: #d4ebff;}#sk-container-id-7 div.sk-label input.sk-toggleable__control:checked~label.sk-toggleable__label {background-color: #d4ebff;}#sk-container-id-7 input.sk-hidden--visually {border: 0;clip: rect(1px 1px 1px 1px);clip: rect(1px, 1px, 1px, 1px);height: 1px;margin: -1px;overflow: hidden;padding: 0;position: absolute;width: 1px;}#sk-container-id-7 div.sk-estimator {font-family: monospace;background-color: #f0f8ff;border: 1px dotted black;border-radius: 0.25em;box-sizing: border-box;margin-bottom: 0.5em;}#sk-container-id-7 div.sk-estimator:hover {background-color: #d4ebff;}#sk-container-id-7 div.sk-parallel-item::after {content: \"\";width: 100%;border-bottom: 1px solid gray;flex-grow: 1;}#sk-container-id-7 div.sk-label:hover label.sk-toggleable__label {background-color: #d4ebff;}#sk-container-id-7 div.sk-serial::before {content: \"\";position: absolute;border-left: 1px solid gray;box-sizing: border-box;top: 0;bottom: 0;left: 50%;z-index: 0;}#sk-container-id-7 div.sk-serial {display: flex;flex-direction: column;align-items: center;background-color: white;padding-right: 0.2em;padding-left: 0.2em;position: relative;}#sk-container-id-7 div.sk-item {position: relative;z-index: 1;}#sk-container-id-7 div.sk-parallel {display: flex;align-items: stretch;justify-content: center;background-color: white;position: relative;}#sk-container-id-7 div.sk-item::before, #sk-container-id-7 div.sk-parallel-item::before {content: \"\";position: absolute;border-left: 1px solid gray;box-sizing: border-box;top: 0;bottom: 0;left: 50%;z-index: -1;}#sk-container-id-7 div.sk-parallel-item {display: flex;flex-direction: column;z-index: 1;position: relative;background-color: white;}#sk-container-id-7 div.sk-parallel-item:first-child::after {align-self: flex-end;width: 50%;}#sk-container-id-7 div.sk-parallel-item:last-child::after {align-self: flex-start;width: 50%;}#sk-container-id-7 div.sk-parallel-item:only-child::after {width: 0;}#sk-container-id-7 div.sk-dashed-wrapped {border: 1px dashed gray;margin: 0 0.4em 0.5em 0.4em;box-sizing: border-box;padding-bottom: 0.4em;background-color: white;}#sk-container-id-7 div.sk-label label {font-family: monospace;font-weight: bold;display: inline-block;line-height: 1.2em;}#sk-container-id-7 div.sk-label-container {text-align: center;}#sk-container-id-7 div.sk-container {/* jupyter's `normalize.less` sets `[hidden] { display: none; }` but bootstrap.min.css set `[hidden] { display: none !important; }` so we also need the `!important` here to be able to override the default hidden behavior on the sphinx rendered scikit-learn.org. See: https://github.com/scikit-learn/scikit-learn/issues/21755 */display: inline-block !important;position: relative;}#sk-container-id-7 div.sk-text-repr-fallback {display: none;}</style><div id=\"sk-container-id-7\" class=\"sk-top-container\"><div class=\"sk-text-repr-fallback\"><pre>DecisionTreeClassifier(max_depth=10, random_state=1)</pre><b>In a Jupyter environment, please rerun this cell to show the HTML representation or trust the notebook. <br />On GitHub, the HTML representation is unable to render, please try loading this page with nbviewer.org.</b></div><div class=\"sk-container\" hidden><div class=\"sk-item\"><div class=\"sk-estimator sk-toggleable\"><input class=\"sk-toggleable__control sk-hidden--visually\" id=\"sk-estimator-id-7\" type=\"checkbox\" checked><label for=\"sk-estimator-id-7\" class=\"sk-toggleable__label sk-toggleable__label-arrow\">DecisionTreeClassifier</label><div class=\"sk-toggleable__content\"><pre>DecisionTreeClassifier(max_depth=10, random_state=1)</pre></div></div></div></div></div>"
      ],
      "text/plain": [
       "DecisionTreeClassifier(max_depth=10, random_state=1)"
      ]
     },
     "execution_count": 61,
     "metadata": {},
     "output_type": "execute_result"
    }
   ],
   "source": [
    "### Instantiate and fit a tree with max_depth=10\n",
    "tree_model_2 = tree.DecisionTreeClassifier(random_state=1, max_depth=10)\n",
    "tree_model_2.fit(X_train_scaled, y_train)"
   ]
  },
  {
   "cell_type": "code",
   "execution_count": 62,
   "id": "f4cd7d77",
   "metadata": {},
   "outputs": [],
   "source": [
    "### Predictions from tree\n",
    "tree_2_predictions = tree_model_2.predict(X_test_scaled)"
   ]
  },
  {
   "cell_type": "code",
   "execution_count": 63,
   "id": "cbee4386",
   "metadata": {},
   "outputs": [
    {
     "data": {
      "text/plain": [
       "True"
      ]
     },
     "execution_count": 63,
     "metadata": {},
     "output_type": "execute_result"
    }
   ],
   "source": [
    "### Draw the tree (saved to a pdf because tree is too large to display clearly in Jupyter notebook)\n",
    "\n",
    "### Convert tree into dot format\n",
    "dot_data = tree.export_graphviz(tree_model_2, out_file=None, feature_names=X_train.columns, class_names=[\"No Default\", \"Default\"], filled=True)\n",
    "\n",
    "### Create graph from dot format\n",
    "tree_graph_2 = pydotplus.graph_from_dot_data(dot_data)\n",
    "\n",
    "### Save the graph as a pdf\n",
    "tree_graph_2.write_pdf(\"../Images/tree2.pdf\")"
   ]
  },
  {
   "cell_type": "code",
   "execution_count": 64,
   "id": "0b0514e8",
   "metadata": {},
   "outputs": [],
   "source": [
    "### Create a dataframe consisting of the predicted probabilities of each loan from the test dataset of not being defaulted or being defaulted, \n",
    "### whether the logistic regression model predicts each loan as being defaulted or not defaulted, and whether the loan was actually defaulted or not\n",
    "\n",
    "### Get the probabilities associated with each datapoint in the testing set belonging to either No Default (left) or Default (right)\n",
    "test_probs_2 = tree_model_2.predict_proba(X_test_scaled)\n",
    "\n",
    "### Dataframe\n",
    "probs_and_actual_df = pd.DataFrame(test_probs_2, columns=['Predicted Probability No Default', 'Predicted Probability Default'])\n",
    "     \n",
    "\n",
    "### Make dataframe and column for whether the loan is predicted not defaulted/defaulted\n",
    "predicted_default = []\n",
    "for tree_2_prediction in tree_2_predictions:\n",
    "    if tree_2_prediction == True:\n",
    "        predicted_default.append(\"Default\")\n",
    "    else:\n",
    "        predicted_default.append(\"No Default\")\n",
    "probs_and_actual_df[\"Predicted No Default/Default\"] = predicted_default\n",
    "\n",
    "\n",
    "### Make column for whether the loan is not defaulted/defaulted\n",
    "actual = []\n",
    "for y_t in y_test:\n",
    "    if y_t == True:\n",
    "        actual.append('Default')\n",
    "    else:\n",
    "        actual.append('No Default')\n",
    "probs_and_actual_df[\"Actual No Default/Default\"] = actual"
   ]
  },
  {
   "cell_type": "code",
   "execution_count": 65,
   "id": "f439b161",
   "metadata": {},
   "outputs": [
    {
     "data": {
      "text/html": [
       "<div>\n",
       "<style scoped>\n",
       "    .dataframe tbody tr th:only-of-type {\n",
       "        vertical-align: middle;\n",
       "    }\n",
       "\n",
       "    .dataframe tbody tr th {\n",
       "        vertical-align: top;\n",
       "    }\n",
       "\n",
       "    .dataframe thead th {\n",
       "        text-align: right;\n",
       "    }\n",
       "</style>\n",
       "<table border=\"1\" class=\"dataframe\">\n",
       "  <thead>\n",
       "    <tr style=\"text-align: right;\">\n",
       "      <th></th>\n",
       "      <th>Predicted Probability No Default</th>\n",
       "      <th>Predicted Probability Default</th>\n",
       "      <th>Predicted No Default/Default</th>\n",
       "      <th>Actual No Default/Default</th>\n",
       "    </tr>\n",
       "  </thead>\n",
       "  <tbody>\n",
       "    <tr>\n",
       "      <th>0</th>\n",
       "      <td>0.000000</td>\n",
       "      <td>1.000000</td>\n",
       "      <td>Default</td>\n",
       "      <td>Default</td>\n",
       "    </tr>\n",
       "    <tr>\n",
       "      <th>1</th>\n",
       "      <td>0.912981</td>\n",
       "      <td>0.087019</td>\n",
       "      <td>No Default</td>\n",
       "      <td>Default</td>\n",
       "    </tr>\n",
       "    <tr>\n",
       "      <th>2</th>\n",
       "      <td>1.000000</td>\n",
       "      <td>0.000000</td>\n",
       "      <td>No Default</td>\n",
       "      <td>No Default</td>\n",
       "    </tr>\n",
       "    <tr>\n",
       "      <th>3</th>\n",
       "      <td>1.000000</td>\n",
       "      <td>0.000000</td>\n",
       "      <td>No Default</td>\n",
       "      <td>No Default</td>\n",
       "    </tr>\n",
       "    <tr>\n",
       "      <th>4</th>\n",
       "      <td>1.000000</td>\n",
       "      <td>0.000000</td>\n",
       "      <td>No Default</td>\n",
       "      <td>No Default</td>\n",
       "    </tr>\n",
       "  </tbody>\n",
       "</table>\n",
       "</div>"
      ],
      "text/plain": [
       "   Predicted Probability No Default  Predicted Probability Default  \\\n",
       "0                          0.000000                       1.000000   \n",
       "1                          0.912981                       0.087019   \n",
       "2                          1.000000                       0.000000   \n",
       "3                          1.000000                       0.000000   \n",
       "4                          1.000000                       0.000000   \n",
       "\n",
       "  Predicted No Default/Default Actual No Default/Default  \n",
       "0                      Default                   Default  \n",
       "1                   No Default                   Default  \n",
       "2                   No Default                No Default  \n",
       "3                   No Default                No Default  \n",
       "4                   No Default                No Default  "
      ]
     },
     "execution_count": 65,
     "metadata": {},
     "output_type": "execute_result"
    }
   ],
   "source": [
    "### Look at created dataframe\n",
    "probs_and_actual_df.head()"
   ]
  },
  {
   "cell_type": "code",
   "execution_count": 66,
   "id": "3f086d9d",
   "metadata": {},
   "outputs": [
    {
     "data": {
      "text/plain": [
       "array([[5101,   84],\n",
       "       [ 169, 1169]], dtype=int64)"
      ]
     },
     "execution_count": 66,
     "metadata": {},
     "output_type": "execute_result"
    }
   ],
   "source": [
    "### Confusion matrix with only numbers\n",
    "confusion_matrix(y_test, tree_2_predictions, labels=[False, True])"
   ]
  },
  {
   "cell_type": "code",
   "execution_count": 67,
   "id": "5efefc82",
   "metadata": {},
   "outputs": [
    {
     "data": {
      "image/png": "[encoded data removed]",
      "text/plain": [
       "<Figure size 640x480 with 2 Axes>"
      ]
     },
     "metadata": {},
     "output_type": "display_data"
    }
   ],
   "source": [
    "### Pretty confusion matrix\n",
    "### Code for how to make confusion matrix pretty from \n",
    "### https://scikit-learn.org/stable/modules/generated/sklearn.metrics.ConfusionMatrixDisplay.html#sklearn.metrics.ConfusionMatrixDisplay.from_estimator\n",
    "cm = confusion_matrix(y_test, tree_2_predictions, labels=[False, True])\n",
    "disp = ConfusionMatrixDisplay(confusion_matrix=cm,\n",
    "                              display_labels=['No Default', 'Default'])\n",
    "disp.plot()\n",
    "plt.show()"
   ]
  },
  {
   "cell_type": "code",
   "execution_count": 68,
   "id": "2cb2a7c8",
   "metadata": {},
   "outputs": [
    {
     "data": {
      "text/plain": [
       "0.9612141652613828"
      ]
     },
     "execution_count": 68,
     "metadata": {},
     "output_type": "execute_result"
    }
   ],
   "source": [
    "### Accuracy\n",
    "accuracy_score(y_test, tree_2_predictions)"
   ]
  },
  {
   "cell_type": "code",
   "execution_count": 71,
   "id": "ecaa8be3",
   "metadata": {},
   "outputs": [
    {
     "name": "stdout",
     "output_type": "stream",
     "text": [
      "              precision    recall  f1-score   support\n",
      "\n",
      "  No Default       0.97      0.98      0.98      5185\n",
      "     Default       0.93      0.87      0.90      1338\n",
      "\n",
      "    accuracy                           0.96      6523\n",
      "   macro avg       0.95      0.93      0.94      6523\n",
      "weighted avg       0.96      0.96      0.96      6523\n",
      "\n"
     ]
    }
   ],
   "source": [
    "### Classification Table\n",
    "target_names = [\"No Default\", \"Default\"]\n",
    "print(classification_report(y_test, tree_2_predictions, target_names = target_names))"
   ]
  },
  {
   "cell_type": "markdown",
   "id": "9d92425a",
   "metadata": {},
   "source": [
    "## Random Forest"
   ]
  },
  {
   "cell_type": "code",
   "execution_count": 82,
   "id": "ff0f79cd",
   "metadata": {},
   "outputs": [],
   "source": [
    "### Instantiate and fit the random forest\n",
    "rf_model = RandomForestClassifier(n_estimators=100, random_state=1)\n",
    "rf_model = rf_model.fit(X_train_scaled, y_train)"
   ]
  },
  {
   "cell_type": "code",
   "execution_count": 83,
   "id": "a6c54451",
   "metadata": {},
   "outputs": [],
   "source": [
    "rf_predictions = rf_model.predict(X_test_scaled)"
   ]
  },
  {
   "cell_type": "code",
   "execution_count": 84,
   "id": "823645ee",
   "metadata": {},
   "outputs": [],
   "source": [
    "### Create a dataframe consisting of the predicted probabilities of each loan from the test dataset of not being defaulted or being defaulted, \n",
    "### whether the logistic regression model predicts each loan as being defaulted or not defaulted, and whether the loan was actually defaulted or not\n",
    "\n",
    "### Get the probabilities associated with each datapoint in the testing set belonging to either No Default (left) or Default (right)\n",
    "test_probs = rf_model.predict_proba(X_test_scaled)\n",
    "\n",
    "## Create dataframe\n",
    "probs_and_actual_df = pd.DataFrame(test_probs, columns=['Predicted Probability No Default', 'Predicted Probability Default'])\n",
    "\n",
    "### Make column for whether the loan is predicted not defaulted/defaulted\n",
    "predicted_default = []\n",
    "for rf_prediction in rf_predictions:\n",
    "    if rf_prediction == True:\n",
    "        predicted_default.append(\"Default\")\n",
    "    else:\n",
    "        predicted_default.append(\"No Default\")\n",
    "probs_and_actual_df[\"Predicted No Default/Default\"] = predicted_default\n",
    "\n",
    "### Make column for whether the loan is not defaulted/defaulted\n",
    "actual = []\n",
    "for y_t in y_test:\n",
    "    if y_t == True:\n",
    "        actual.append('Default')\n",
    "    else:\n",
    "        actual.append('No Default')\n",
    "probs_and_actual_df[\"Actual No Default/Default\"] = actual"
   ]
  },
  {
   "cell_type": "code",
   "execution_count": 85,
   "id": "000da537",
   "metadata": {},
   "outputs": [
    {
     "data": {
      "text/html": [
       "<div>\n",
       "<style scoped>\n",
       "    .dataframe tbody tr th:only-of-type {\n",
       "        vertical-align: middle;\n",
       "    }\n",
       "\n",
       "    .dataframe tbody tr th {\n",
       "        vertical-align: top;\n",
       "    }\n",
       "\n",
       "    .dataframe thead th {\n",
       "        text-align: right;\n",
       "    }\n",
       "</style>\n",
       "<table border=\"1\" class=\"dataframe\">\n",
       "  <thead>\n",
       "    <tr style=\"text-align: right;\">\n",
       "      <th></th>\n",
       "      <th>Predicted Probability No Default</th>\n",
       "      <th>Predicted Probability Default</th>\n",
       "      <th>Predicted No Default/Default</th>\n",
       "      <th>Actual No Default/Default</th>\n",
       "    </tr>\n",
       "  </thead>\n",
       "  <tbody>\n",
       "    <tr>\n",
       "      <th>0</th>\n",
       "      <td>0.06</td>\n",
       "      <td>0.94</td>\n",
       "      <td>Default</td>\n",
       "      <td>Default</td>\n",
       "    </tr>\n",
       "    <tr>\n",
       "      <th>1</th>\n",
       "      <td>0.81</td>\n",
       "      <td>0.19</td>\n",
       "      <td>No Default</td>\n",
       "      <td>Default</td>\n",
       "    </tr>\n",
       "    <tr>\n",
       "      <th>2</th>\n",
       "      <td>0.99</td>\n",
       "      <td>0.01</td>\n",
       "      <td>No Default</td>\n",
       "      <td>No Default</td>\n",
       "    </tr>\n",
       "    <tr>\n",
       "      <th>3</th>\n",
       "      <td>1.00</td>\n",
       "      <td>0.00</td>\n",
       "      <td>No Default</td>\n",
       "      <td>No Default</td>\n",
       "    </tr>\n",
       "    <tr>\n",
       "      <th>4</th>\n",
       "      <td>1.00</td>\n",
       "      <td>0.00</td>\n",
       "      <td>No Default</td>\n",
       "      <td>No Default</td>\n",
       "    </tr>\n",
       "  </tbody>\n",
       "</table>\n",
       "</div>"
      ],
      "text/plain": [
       "   Predicted Probability No Default  Predicted Probability Default  \\\n",
       "0                              0.06                           0.94   \n",
       "1                              0.81                           0.19   \n",
       "2                              0.99                           0.01   \n",
       "3                              1.00                           0.00   \n",
       "4                              1.00                           0.00   \n",
       "\n",
       "  Predicted No Default/Default Actual No Default/Default  \n",
       "0                      Default                   Default  \n",
       "1                   No Default                   Default  \n",
       "2                   No Default                No Default  \n",
       "3                   No Default                No Default  \n",
       "4                   No Default                No Default  "
      ]
     },
     "execution_count": 85,
     "metadata": {},
     "output_type": "execute_result"
    }
   ],
   "source": [
    "### Look at created dataframe\n",
    "probs_and_actual_df.head()"
   ]
  },
  {
   "cell_type": "code",
   "execution_count": 86,
   "id": "ddc94294",
   "metadata": {},
   "outputs": [
    {
     "data": {
      "text/plain": [
       "array([[5105,   80],\n",
       "       [ 144, 1194]], dtype=int64)"
      ]
     },
     "execution_count": 86,
     "metadata": {},
     "output_type": "execute_result"
    }
   ],
   "source": [
    "### Confusion matrix with only numbers\n",
    "confusion_matrix(y_test, rf_predictions, labels=[False, True])"
   ]
  },
  {
   "cell_type": "code",
   "execution_count": 87,
   "id": "124a011f",
   "metadata": {},
   "outputs": [
    {
     "data": {
      "image/png": "[encoded data removed]",
      "text/plain": [
       "<Figure size 640x480 with 2 Axes>"
      ]
     },
     "metadata": {},
     "output_type": "display_data"
    }
   ],
   "source": [
    "### Pretty confusion matrix\n",
    "### Code for how to make confusion matrix pretty from \n",
    "### https://scikit-learn.org/stable/modules/generated/sklearn.metrics.ConfusionMatrixDisplay.html#sklearn.metrics.ConfusionMatrixDisplay.from_estimator\n",
    "cm = confusion_matrix(y_test, rf_predictions, labels=[False, True])\n",
    "disp = ConfusionMatrixDisplay(confusion_matrix=cm,\n",
    "                              display_labels=['No Default', 'Default'])\n",
    "disp.plot(cmap='cividis')\n",
    "plt.show()"
   ]
  },
  {
   "cell_type": "code",
   "execution_count": 88,
   "id": "292df386",
   "metadata": {},
   "outputs": [
    {
     "data": {
      "text/plain": [
       "0.965659972405335"
      ]
     },
     "execution_count": 88,
     "metadata": {},
     "output_type": "execute_result"
    }
   ],
   "source": [
    "### Accuracy score\n",
    "accuracy_score(y_test, rf_predictions)"
   ]
  },
  {
   "cell_type": "code",
   "execution_count": 89,
   "id": "e4de9d5b",
   "metadata": {},
   "outputs": [
    {
     "name": "stdout",
     "output_type": "stream",
     "text": [
      "              precision    recall  f1-score   support\n",
      "\n",
      "  No Default       0.97      0.98      0.98      5185\n",
      "     Default       0.94      0.89      0.91      1338\n",
      "\n",
      "    accuracy                           0.97      6523\n",
      "   macro avg       0.95      0.94      0.95      6523\n",
      "weighted avg       0.97      0.97      0.97      6523\n",
      "\n"
     ]
    }
   ],
   "source": [
    "### Classification Table\n",
    "target_names = [\"No Default\", \"Default\"]\n",
    "print(classification_report(y_test, rf_predictions, target_names = target_names))"
   ]
  }
 ],
 "metadata": {
  "kernelspec": {
   "display_name": "Python 3 (ipykernel)",
   "language": "python",
   "name": "python3"
  },
  "language_info": {
   "codemirror_mode": {
    "name": "ipython",
    "version": 3
   },
   "file_extension": ".py",
   "mimetype": "text/x-python",
   "name": "python",
   "nbconvert_exporter": "python",
   "pygments_lexer": "ipython3",
   "version": "3.11.7"
  }
 },
 "nbformat": 4,
 "nbformat_minor": 5
}
